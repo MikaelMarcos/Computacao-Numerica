{
 "cells": [
  {
   "cell_type": "markdown",
   "metadata": {},
   "source": [
    "**MÉTODO DE EULLER**"
   ]
  },
  {
   "cell_type": "code",
   "execution_count": 2,
   "metadata": {},
   "outputs": [
    {
     "ename": "SyntaxError",
     "evalue": "invalid syntax (<string>, line 0)",
     "output_type": "error",
     "traceback": [
      "Traceback \u001b[1;36m(most recent call last)\u001b[0m:\n",
      "\u001b[0m  File \u001b[0;32m~\\AppData\\Roaming\\Python\\Python312\\site-packages\\IPython\\core\\interactiveshell.py:3577\u001b[0m in \u001b[0;35mrun_code\u001b[0m\n    exec(code_obj, self.user_global_ns, self.user_ns)\u001b[0m\n",
      "\u001b[0m  Cell \u001b[0;32mIn[2], line 32\u001b[0m\n    _, y_values = Euler(g, x0, y0, h, n)\u001b[0m\n",
      "\u001b[0m  Cell \u001b[0;32mIn[2], line 27\u001b[0m in \u001b[0;35mEuler\u001b[0m\n    y[i + 1] = y[i] + h * g(x[i], y[i])\u001b[0m\n",
      "\u001b[1;36m  Cell \u001b[1;32mIn[2], line 14\u001b[1;36m in \u001b[1;35m<lambda>\u001b[1;36m\n\u001b[1;33m    g = lambda x, y: eval(exp)\u001b[1;36m\n",
      "\u001b[1;36m  File \u001b[1;32m<string>\u001b[1;36m\u001b[0m\n\u001b[1;33m    \u001b[0m\n\u001b[1;37m    ^\u001b[0m\n\u001b[1;31mSyntaxError\u001b[0m\u001b[1;31m:\u001b[0m invalid syntax\n"
     ]
    }
   ],
   "source": [
    "import numpy as np\n",
    "\n",
    "## Recebe:\n",
    "##   g(x,y): a derivada da função f(x)\n",
    "##   x0 e y0: condição inicial y0 = f(x0)\n",
    "##   h: passo\n",
    "##   n: quantidade de iterações\n",
    "\n",
    "exp = input()\n",
    "x0 = float(input())\n",
    "y0 = float(input())\n",
    "h = float(input())\n",
    "n = int(input())\n",
    "g = lambda x, y: eval(exp)\n",
    "\n",
    "## A partir daqui, g, x0, y0, h e n estão definidos\n",
    "\n",
    "def Euler(g, x0, y0, h, n):\n",
    "    x = np.zeros(n + 1)\n",
    "    y = np.zeros(n + 1)\n",
    "\n",
    "    x[0] = x0\n",
    "    y[0] = y0\n",
    "\n",
    "    for i in range(n):\n",
    "        x[i + 1] = x[i] + h\n",
    "        y[i + 1] = y[i] + h * g(x[i], y[i])\n",
    "\n",
    "    return (x, y)\n",
    "\n",
    "\n",
    "_, y_values = Euler(g, x0, y0, h, n)\n",
    "\n",
    "saida = y_values[n]\n",
    "\n",
    "print(f'{saida:.3f}')"
   ]
  },
  {
   "cell_type": "markdown",
   "metadata": {},
   "source": [
    "**método de Heun**"
   ]
  },
  {
   "cell_type": "code",
   "execution_count": null,
   "metadata": {},
   "outputs": [],
   "source": [
    "import numpy as np\n",
    "\n",
    "##   Recebe:\n",
    "##     g(x,y): a derivada da função f(x)\n",
    "##     x0 e y0: condição inicial y0 = f(x0)\n",
    "##     h: passo\n",
    "##     n: quantidade de iterações\n",
    "\n",
    "## A partir daqui, g, x0, y0, h e n estão definidos\n",
    "exp = input()\n",
    "x0 = float(input())\n",
    "y0 = float(input())\n",
    "h = float(input())\n",
    "n = int(input())\n",
    "g = lambda x, y: eval(exp)\n",
    "\n",
    "def Heun(g, x0, y0, h, n):\n",
    "    x = np.zeros(n + 1)\n",
    "    y = np.zeros(n + 1)\n",
    "    x[0] = x0\n",
    "    y[0] = y0\n",
    "\n",
    "    for i in range(n):\n",
    "        x[i + 1] = x[i] + h\n",
    "        # Previsão\n",
    "        y_pred = y[i] + h * g(x[i], y[i])\n",
    "        # Correção\n",
    "        y[i + 1] = y[i] + (h / 2) * (g(x[i], y[i]) + g(x[i + 1], y_pred))\n",
    "\n",
    "    return (x, y)\n",
    "\n",
    "\n",
    "(x, y) = Heun(g, x0, y0, h, n)\n",
    "\n",
    "saida = y[n]\n",
    "\n",
    "print(f'{saida:.3f}')"
   ]
  }
 ],
 "metadata": {
  "kernelspec": {
   "display_name": "Python 3",
   "language": "python",
   "name": "python3"
  },
  "language_info": {
   "codemirror_mode": {
    "name": "ipython",
    "version": 3
   },
   "file_extension": ".py",
   "mimetype": "text/x-python",
   "name": "python",
   "nbconvert_exporter": "python",
   "pygments_lexer": "ipython3",
   "version": "3.12.6"
  }
 },
 "nbformat": 4,
 "nbformat_minor": 2
}
